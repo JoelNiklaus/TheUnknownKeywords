{
 "metadata": {
  "language_info": {
   "codemirror_mode": {
    "name": "ipython",
    "version": 3
   },
   "file_extension": ".py",
   "mimetype": "text/x-python",
   "name": "python",
   "nbconvert_exporter": "python",
   "pygments_lexer": "ipython3",
   "version": "3.7.6-final"
  },
  "orig_nbformat": 2,
  "kernelspec": {
   "name": "python3",
   "display_name": "Python 3.7.6 64-bit",
   "metadata": {
    "interpreter": {
     "hash": "aee8b7b246df8f9039afb4144a1f6fd8d2ca17a180786b69acc140d282b71a49"
    }
   }
  }
 },
 "nbformat": 4,
 "nbformat_minor": 2,
 "cells": [
  {
   "cell_type": "code",
   "execution_count": 10,
   "metadata": {},
   "outputs": [],
   "source": [
    "import numpy as np\n",
    "import pandas as pd"
   ]
  },
  {
   "cell_type": "code",
   "execution_count": 35,
   "metadata": {},
   "outputs": [],
   "source": [
    "def load_data():\n",
    "    path = 'data/train.csv'\n",
    "    return pd.read_csv(path, sep=';')\n",
    "\n",
    "def save_df(df, file):\n",
    "    if file == None:\n",
    "        print('Please provide an output file name')\n",
    "        return\n",
    "    df.to_csv(file, index=False)"
   ]
  },
  {
   "cell_type": "code",
   "execution_count": 36,
   "metadata": {},
   "outputs": [],
   "source": [
    "# The format of the output CSV file is always like this:\n",
    "# label,input"
   ]
  },
  {
   "cell_type": "code",
   "execution_count": 37,
   "metadata": {},
   "outputs": [
    {
     "output_type": "execute_result",
     "data": {
      "text/plain": [
       "   Unnamed: 0               Id             Impact Urgency     IncidentType  \\\n",
       "0        3554  INC000010587669  4-Minor/Localized  2-High          Failure   \n",
       "1        3553  INC000010585556  4-Minor/Localized   4-Low  Service Request   \n",
       "2        3552  INC000010585519  4-Minor/Localized   4-Low          Failure   \n",
       "3        3549  INC000010582950  4-Minor/Localized   4-Low  Service Request   \n",
       "4        3548  INC000010582919  4-Minor/Localized   4-Low  Service Request   \n",
       "\n",
       "              ServiceProcessed  \\\n",
       "0                 EDA_S_BA_2FA   \n",
       "1       EDA_S_Order Management   \n",
       "2       EDA_S_Peripheriegeräte   \n",
       "3  EDA_S_Benutzerunterstützung   \n",
       "4       EDA_S_Order Management   \n",
       "\n",
       "                                         MailSubject  \\\n",
       "0  smart card blockiert MD5:2225e4a30a5b7e592ba34...   \n",
       "1    FW: Webcam MD5:f757a42a9bdb1dfd9c8427e588586ca8   \n",
       "2  FW: IT Support heute Nachmittag MD5:bc594d6bfd...   \n",
       "3  Botschaft Warschau -  Administratoren-Zugang f...   \n",
       "4  FW: Commande d'un écran MD5:c2b8cb3281fed4e2d4...   \n",
       "\n",
       "                                        MailTextBody  \\\n",
       "0  lieber helpdesk  sie haben mir den computer fr...   \n",
       "1  liebe kolleginnen und kollegen  ich möchte für...   \n",
       "2  liebe kolleginnen und kollegen  es handelt sic...   \n",
       "3  sehr geehrte damen und herren,  die botschaft ...   \n",
       "4  liebe kolleginnen und kollegen  ich möchte für...   \n",
       "\n",
       "                    ManualGroups  \n",
       "0                            NaN  \n",
       "1                            NaN  \n",
       "2                            NaN  \n",
       "3  Benutzeranleitungen_Telefonie  \n",
       "4                            NaN  "
      ],
      "text/html": "<div>\n<style scoped>\n    .dataframe tbody tr th:only-of-type {\n        vertical-align: middle;\n    }\n\n    .dataframe tbody tr th {\n        vertical-align: top;\n    }\n\n    .dataframe thead th {\n        text-align: right;\n    }\n</style>\n<table border=\"1\" class=\"dataframe\">\n  <thead>\n    <tr style=\"text-align: right;\">\n      <th></th>\n      <th>Unnamed: 0</th>\n      <th>Id</th>\n      <th>Impact</th>\n      <th>Urgency</th>\n      <th>IncidentType</th>\n      <th>ServiceProcessed</th>\n      <th>MailSubject</th>\n      <th>MailTextBody</th>\n      <th>ManualGroups</th>\n    </tr>\n  </thead>\n  <tbody>\n    <tr>\n      <th>0</th>\n      <td>3554</td>\n      <td>INC000010587669</td>\n      <td>4-Minor/Localized</td>\n      <td>2-High</td>\n      <td>Failure</td>\n      <td>EDA_S_BA_2FA</td>\n      <td>smart card blockiert MD5:2225e4a30a5b7e592ba34...</td>\n      <td>lieber helpdesk  sie haben mir den computer fr...</td>\n      <td>NaN</td>\n    </tr>\n    <tr>\n      <th>1</th>\n      <td>3553</td>\n      <td>INC000010585556</td>\n      <td>4-Minor/Localized</td>\n      <td>4-Low</td>\n      <td>Service Request</td>\n      <td>EDA_S_Order Management</td>\n      <td>FW: Webcam MD5:f757a42a9bdb1dfd9c8427e588586ca8</td>\n      <td>liebe kolleginnen und kollegen  ich möchte für...</td>\n      <td>NaN</td>\n    </tr>\n    <tr>\n      <th>2</th>\n      <td>3552</td>\n      <td>INC000010585519</td>\n      <td>4-Minor/Localized</td>\n      <td>4-Low</td>\n      <td>Failure</td>\n      <td>EDA_S_Peripheriegeräte</td>\n      <td>FW: IT Support heute Nachmittag MD5:bc594d6bfd...</td>\n      <td>liebe kolleginnen und kollegen  es handelt sic...</td>\n      <td>NaN</td>\n    </tr>\n    <tr>\n      <th>3</th>\n      <td>3549</td>\n      <td>INC000010582950</td>\n      <td>4-Minor/Localized</td>\n      <td>4-Low</td>\n      <td>Service Request</td>\n      <td>EDA_S_Benutzerunterstützung</td>\n      <td>Botschaft Warschau -  Administratoren-Zugang f...</td>\n      <td>sehr geehrte damen und herren,  die botschaft ...</td>\n      <td>Benutzeranleitungen_Telefonie</td>\n    </tr>\n    <tr>\n      <th>4</th>\n      <td>3548</td>\n      <td>INC000010582919</td>\n      <td>4-Minor/Localized</td>\n      <td>4-Low</td>\n      <td>Service Request</td>\n      <td>EDA_S_Order Management</td>\n      <td>FW: Commande d'un écran MD5:c2b8cb3281fed4e2d4...</td>\n      <td>liebe kolleginnen und kollegen  ich möchte für...</td>\n      <td>NaN</td>\n    </tr>\n  </tbody>\n</table>\n</div>"
     },
     "metadata": {},
     "execution_count": 37
    }
   ],
   "source": [
    "df = load_data()\n",
    "df.head()"
   ]
  },
  {
   "cell_type": "code",
   "execution_count": 38,
   "metadata": {},
   "outputs": [
    {
     "output_type": "execute_result",
     "data": {
      "text/plain": [
       "                         label  \\\n",
       "0                 EDA_S_BA_2FA   \n",
       "1       EDA_S_Order Management   \n",
       "2       EDA_S_Peripheriegeräte   \n",
       "3  EDA_S_Benutzerunterstützung   \n",
       "4       EDA_S_Order Management   \n",
       "\n",
       "                                               input  \n",
       "0  smart card blockiert MD5:2225e4a30a5b7e592ba34...  \n",
       "1  FW: Webcam MD5:f757a42a9bdb1dfd9c8427e588586ca...  \n",
       "2  FW: IT Support heute Nachmittag MD5:bc594d6bfd...  \n",
       "3  Botschaft Warschau -  Administratoren-Zugang f...  \n",
       "4  FW: Commande d'un écran MD5:c2b8cb3281fed4e2d4...  "
      ],
      "text/html": "<div>\n<style scoped>\n    .dataframe tbody tr th:only-of-type {\n        vertical-align: middle;\n    }\n\n    .dataframe tbody tr th {\n        vertical-align: top;\n    }\n\n    .dataframe thead th {\n        text-align: right;\n    }\n</style>\n<table border=\"1\" class=\"dataframe\">\n  <thead>\n    <tr style=\"text-align: right;\">\n      <th></th>\n      <th>label</th>\n      <th>input</th>\n    </tr>\n  </thead>\n  <tbody>\n    <tr>\n      <th>0</th>\n      <td>EDA_S_BA_2FA</td>\n      <td>smart card blockiert MD5:2225e4a30a5b7e592ba34...</td>\n    </tr>\n    <tr>\n      <th>1</th>\n      <td>EDA_S_Order Management</td>\n      <td>FW: Webcam MD5:f757a42a9bdb1dfd9c8427e588586ca...</td>\n    </tr>\n    <tr>\n      <th>2</th>\n      <td>EDA_S_Peripheriegeräte</td>\n      <td>FW: IT Support heute Nachmittag MD5:bc594d6bfd...</td>\n    </tr>\n    <tr>\n      <th>3</th>\n      <td>EDA_S_Benutzerunterstützung</td>\n      <td>Botschaft Warschau -  Administratoren-Zugang f...</td>\n    </tr>\n    <tr>\n      <th>4</th>\n      <td>EDA_S_Order Management</td>\n      <td>FW: Commande d'un écran MD5:c2b8cb3281fed4e2d4...</td>\n    </tr>\n  </tbody>\n</table>\n</div>"
     },
     "metadata": {},
     "execution_count": 38
    }
   ],
   "source": [
    "# Un processed (raw) data where subject is concatenated with the body of the email\n",
    "df = load_data()\n",
    "df = df[['ServiceProcessed', 'MailSubject', 'MailTextBody']]\n",
    "df['input'] = df['MailSubject'] + ' ' + df['MailTextBody']\n",
    "df = df.drop(columns=['MailSubject', 'MailTextBody'])\n",
    "df = df.rename(columns={'ServiceProcessed': 'label'})\n",
    "save_df(df, 'raw.csv')\n",
    "df.head()"
   ]
  },
  {
   "cell_type": "code",
   "execution_count": null,
   "metadata": {},
   "outputs": [],
   "source": []
  }
 ]
}